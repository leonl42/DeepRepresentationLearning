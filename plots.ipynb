{
 "cells": [
  {
   "cell_type": "code",
   "execution_count": 32,
   "metadata": {},
   "outputs": [],
   "source": [
    "import os\n",
    "os.environ[\"XLA_PYTHON_CLIENT_PREALLOCATE\"] = \"false\"\n",
    "from utils import AuxAgg\n"
   ]
  },
  {
   "cell_type": "code",
   "execution_count": 33,
   "metadata": {},
   "outputs": [],
   "source": [
    "data = {}"
   ]
  },
  {
   "cell_type": "code",
   "execution_count": 34,
   "metadata": {},
   "outputs": [
    {
     "name": "stdout",
     "output_type": "stream",
     "text": [
      "[(6, Array(0.20676821, dtype=float32))]\n",
      "[(6, Array(0.91010696, dtype=float32))]\n"
     ]
    }
   ],
   "source": [
    "auxagg = AuxAgg()\n",
    "auxagg.load(\"./saves/train_evaluate_seed_0/\",\"evaluate_auxagg.pkl\")\n",
    "\n",
    "print(auxagg.min_mean([\"valid_loss\"]))\n",
    "print(auxagg.max_mean([\"valid_acc\"]))\n",
    "\n",
    "data[\"baseline\"] = auxagg.max_mean([\"valid_acc\"])[0][1]"
   ]
  },
  {
   "cell_type": "code",
   "execution_count": 35,
   "metadata": {},
   "outputs": [
    {
     "name": "stdout",
     "output_type": "stream",
     "text": [
      "[(15, Array(0.43588638, dtype=float32))]\n",
      "[(8, Array(0.81725824, dtype=float32))]\n"
     ]
    }
   ],
   "source": [
    "auxagg = AuxAgg()\n",
    "auxagg.load(\"./saves/train_lewis_seed_0_1/\",\"evaluate_auxagg.pkl\")\n",
    "\n",
    "print(auxagg.min_mean([\"valid_loss\"]))\n",
    "print(auxagg.max_mean([\"valid_acc\"]))\n",
    "\n",
    "data[\"lewis_1\"] = auxagg.max_mean([\"valid_acc\"])[0][1]"
   ]
  },
  {
   "cell_type": "code",
   "execution_count": 36,
   "metadata": {},
   "outputs": [
    {
     "name": "stdout",
     "output_type": "stream",
     "text": [
      "[(10, Array(0.4277106, dtype=float32))]\n",
      "[(11, Array(0.8128081, dtype=float32))]\n"
     ]
    }
   ],
   "source": [
    "auxagg = AuxAgg()\n",
    "auxagg.load(\"./saves/train_lewis_seed_0_1023/\",\"evaluate_auxagg.pkl\")\n",
    "\n",
    "print(auxagg.min_mean([\"valid_loss\"]))\n",
    "print(auxagg.max_mean([\"valid_acc\"]))\n",
    "\n",
    "data[\"lewis_1023\"] = auxagg.max_mean([\"valid_acc\"])[0][1]"
   ]
  },
  {
   "cell_type": "code",
   "execution_count": 37,
   "metadata": {},
   "outputs": [
    {
     "name": "stdout",
     "output_type": "stream",
     "text": [
      "[(102, Array(0.37589884, dtype=float32))]\n",
      "[(112, Array(0.837822, dtype=float32))]\n"
     ]
    }
   ],
   "source": [
    "auxagg = AuxAgg()\n",
    "auxagg.load(\"./saves/train_lewis_seed_0_2047/\",\"evaluate_auxagg.pkl\")\n",
    "\n",
    "print(auxagg.min_mean([\"valid_loss\"]))\n",
    "print(auxagg.max_mean([\"valid_acc\"]))\n",
    "\n",
    "data[\"lewis_2047\"] = auxagg.max_mean([\"valid_acc\"])[0][1]"
   ]
  },
  {
   "cell_type": "code",
   "execution_count": 38,
   "metadata": {},
   "outputs": [
    {
     "name": "stdout",
     "output_type": "stream",
     "text": [
      "[(188, Array(0.3601672, dtype=float32))]\n",
      "[(195, Array(0.8446347, dtype=float32))]\n"
     ]
    }
   ],
   "source": [
    "auxagg = AuxAgg()\n",
    "auxagg.load(\"./saves/train_lewis_seed_0_3071/\",\"evaluate_auxagg.pkl\")\n",
    "\n",
    "print(auxagg.min_mean([\"valid_loss\"]))\n",
    "print(auxagg.max_mean([\"valid_acc\"]))\n",
    "\n",
    "data[\"lewis_3071\"] = auxagg.max_mean([\"valid_acc\"])[0][1]"
   ]
  },
  {
   "cell_type": "code",
   "execution_count": 39,
   "metadata": {},
   "outputs": [
    {
     "name": "stdout",
     "output_type": "stream",
     "text": [
      "[(78, Array(0.3548191, dtype=float32))]\n",
      "[(86, Array(0.8471149, dtype=float32))]\n"
     ]
    }
   ],
   "source": [
    "auxagg = AuxAgg()\n",
    "auxagg.load(\"./saves/train_predict_transforms_seed_0/\",\"evaluate_auxagg.pkl\")\n",
    "\n",
    "print(auxagg.min_mean([\"valid_loss\"]))\n",
    "print(auxagg.max_mean([\"valid_acc\"]))\n",
    "\n",
    "data[\"predict_rotations\"] = auxagg.max_mean([\"valid_acc\"])[0][1]"
   ]
  },
  {
   "cell_type": "code",
   "execution_count": 40,
   "metadata": {},
   "outputs": [
    {
     "name": "stdout",
     "output_type": "stream",
     "text": [
      "[(7, Array(0.25828585, dtype=float32))]\n",
      "[(9, Array(0.88829935, dtype=float32))]\n"
     ]
    }
   ],
   "source": [
    "auxagg = AuxAgg()\n",
    "auxagg.load(\"./saves/train_autoencoder_seed_0/\",\"evaluate_auxagg.pkl\")\n",
    "\n",
    "print(auxagg.min_mean([\"valid_loss\"]))\n",
    "print(auxagg.max_mean([\"valid_acc\"]))\n",
    "\n",
    "data[\"autoencoder\"] = auxagg.max_mean([\"valid_acc\"])[0][1]"
   ]
  },
  {
   "cell_type": "code",
   "execution_count": 56,
   "metadata": {},
   "outputs": [
    {
     "data": {
      "image/png": "[encoded data removed]",
      "text/plain": [
       "<Figure size 1200x800 with 1 Axes>"
      ]
     },
     "metadata": {},
     "output_type": "display_data"
    },
    {
     "data": {
      "text/plain": [
       "<Figure size 640x480 with 0 Axes>"
      ]
     },
     "metadata": {},
     "output_type": "display_data"
    }
   ],
   "source": [
    "\n",
    "import numpy as np\n",
    "import matplotlib.pyplot as plt \n",
    "\n",
    "data = dict(sorted(data.items(), key=lambda item: item[1]).__reversed__())\n",
    "# creating the bar plot\n",
    "fig = plt.figure(figsize = (12, 8))\n",
    "plt.bar(list(data.keys()), list(data.values()), color ='blue', \n",
    "        width = 0.3)\n",
    "\n",
    "plt.xlabel(\"Algorithm\")\n",
    "plt.ylabel(\"Accuracy\")\n",
    "#plt.title(\"Students enrolled in different courses\")\n",
    "\n",
    "plt.savefig(\"./accuracy_plot.png\")"
   ]
  }
 ],
 "metadata": {
  "kernelspec": {
   "display_name": "deepreprlearning",
   "language": "python",
   "name": "python3"
  },
  "language_info": {
   "codemirror_mode": {
    "name": "ipython",
    "version": 3
   },
   "file_extension": ".py",
   "mimetype": "text/x-python",
   "name": "python",
   "nbconvert_exporter": "python",
   "pygments_lexer": "ipython3",
   "version": "3.11.5"
  }
 },
 "nbformat": 4,
 "nbformat_minor": 2
}
