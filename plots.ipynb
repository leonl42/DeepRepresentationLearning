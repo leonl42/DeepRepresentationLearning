{
 "cells": [
  {
   "cell_type": "code",
   "execution_count": 1,
   "metadata": {},
   "outputs": [],
   "source": [
    "import os\n",
    "os.environ[\"XLA_PYTHON_CLIENT_PREALLOCATE\"] = \"false\"\n",
    "from utils import AuxAgg\n"
   ]
  },
  {
   "cell_type": "code",
   "execution_count": 2,
   "metadata": {},
   "outputs": [],
   "source": [
    "data = {}"
   ]
  },
  {
   "cell_type": "code",
   "execution_count": 3,
   "metadata": {},
   "outputs": [
    {
     "name": "stdout",
     "output_type": "stream",
     "text": [
      "[(6, Array(0.20676821, dtype=float32))]\n",
      "[(6, Array(0.91010696, dtype=float32))]\n"
     ]
    }
   ],
   "source": [
    "auxagg = AuxAgg()\n",
    "auxagg.load(\"./saves/train_evaluate_seed_0/\",\"evaluate_auxagg.pkl\")\n",
    "\n",
    "print(auxagg.min_mean([\"valid_loss\"]))\n",
    "print(auxagg.max_mean([\"valid_acc\"]))\n",
    "\n",
    "data[\"baseline\"] = auxagg.max_mean([\"valid_acc\"])[0][1]"
   ]
  },
  {
   "cell_type": "code",
   "execution_count": 4,
   "metadata": {},
   "outputs": [
    {
     "name": "stdout",
     "output_type": "stream",
     "text": [
      "[(225, Array(0.34217867, dtype=float32))]\n",
      "[(222, Array(0.8516615, dtype=float32))]\n"
     ]
    }
   ],
   "source": [
    "auxagg = AuxAgg()\n",
    "auxagg.load(\"./saves/train_lewis_seed_432834_1023/\",\"evaluate_auxagg.pkl\")\n",
    "\n",
    "print(auxagg.min_mean([\"valid_loss\"]))\n",
    "print(auxagg.max_mean([\"valid_acc\"]))\n",
    "\n",
    "data[\"lewis_1023\"] = auxagg.max_mean([\"valid_acc\"])[0][1]"
   ]
  },
  {
   "cell_type": "code",
   "execution_count": 5,
   "metadata": {},
   "outputs": [
    {
     "name": "stdout",
     "output_type": "stream",
     "text": [
      "[(121, Array(0.35517004, dtype=float32))]\n",
      "[(124, Array(0.84672844, dtype=float32))]\n"
     ]
    }
   ],
   "source": [
    "auxagg = AuxAgg()\n",
    "auxagg.load(\"./saves/train_lewis_seed_432834_1/\",\"evaluate_auxagg.pkl\")\n",
    "\n",
    "print(auxagg.min_mean([\"valid_loss\"]))\n",
    "print(auxagg.max_mean([\"valid_acc\"]))\n",
    "\n",
    "data[\"lewis_1\"] = auxagg.max_mean([\"valid_acc\"])[0][1]"
   ]
  },
  {
   "cell_type": "code",
   "execution_count": 6,
   "metadata": {},
   "outputs": [
    {
     "name": "stdout",
     "output_type": "stream",
     "text": [
      "[(78, Array(0.3548191, dtype=float32))]\n",
      "[(86, Array(0.8471149, dtype=float32))]\n"
     ]
    }
   ],
   "source": [
    "auxagg = AuxAgg()\n",
    "auxagg.load(\"./saves/train_predict_transforms_seed_0/\",\"evaluate_auxagg.pkl\")\n",
    "\n",
    "print(auxagg.min_mean([\"valid_loss\"]))\n",
    "print(auxagg.max_mean([\"valid_acc\"]))\n",
    "\n",
    "data[\"predict_rotations\"] = auxagg.max_mean([\"valid_acc\"])[0][1]"
   ]
  },
  {
   "cell_type": "code",
   "execution_count": 7,
   "metadata": {},
   "outputs": [
    {
     "name": "stdout",
     "output_type": "stream",
     "text": [
      "[(7, Array(0.25828585, dtype=float32))]\n",
      "[(9, Array(0.88829935, dtype=float32))]\n"
     ]
    }
   ],
   "source": [
    "auxagg = AuxAgg()\n",
    "auxagg.load(\"./saves/train_autoencoder_seed_0/\",\"evaluate_auxagg.pkl\")\n",
    "\n",
    "print(auxagg.min_mean([\"valid_loss\"]))\n",
    "print(auxagg.max_mean([\"valid_acc\"]))\n",
    "\n",
    "data[\"autoencoder\"] = auxagg.max_mean([\"valid_acc\"])[0][1]"
   ]
  },
  {
   "cell_type": "code",
   "execution_count": 8,
   "metadata": {},
   "outputs": [
    {
     "data": {
      "image/png": "[encoded data removed]",
      "text/plain": [
       "<Figure size 1200x800 with 1 Axes>"
      ]
     },
     "metadata": {},
     "output_type": "display_data"
    }
   ],
   "source": [
    "\n",
    "import numpy as np\n",
    "import matplotlib.pyplot as plt \n",
    "\n",
    "data = dict(sorted(data.items(), key=lambda item: item[1]).__reversed__())\n",
    "\n",
    "fig = plt.figure(figsize = (12, 8))\n",
    "plt.bar(list(data.keys()), list(data.values()), color ='blue', \n",
    "        width = 0.3)\n",
    "\n",
    "#plt.xlabel(\"Algorithm\")\n",
    "plt.ylabel(\"Accuracy\")\n",
    "ax = plt.gca()\n",
    "ax.set_ylim([0.8, 1.0])\n",
    "plt.savefig(\"./accuracy_plot.png\")"
   ]
  }
 ],
 "metadata": {
  "kernelspec": {
   "display_name": "deepreprlearning",
   "language": "python",
   "name": "python3"
  },
  "language_info": {
   "codemirror_mode": {
    "name": "ipython",
    "version": 3
   },
   "file_extension": ".py",
   "mimetype": "text/x-python",
   "name": "python",
   "nbconvert_exporter": "python",
   "pygments_lexer": "ipython3",
   "version": "3.11.5"
  }
 },
 "nbformat": 4,
 "nbformat_minor": 2
}
